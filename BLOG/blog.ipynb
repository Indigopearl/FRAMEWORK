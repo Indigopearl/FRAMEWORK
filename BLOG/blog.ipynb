{
 "cells": [
  {
   "cell_type": "markdown",
   "metadata": {},
   "source": [
    "# Chapter 6: Blog App\n",
    "\n",
    "In this chapter, we will build a Blog application that allows users to create, edit, and delete posts. The homepage will list all blog posts, and each blog post\n",
    "will have a dedicated page. We'll also introduce CSS for styling and learn how Django works with static files.\n",
    "\n",
    "\n",
    "### Initial Set Up\n",
    "\n",
    "\n",
    "- make a new directory for our code called blog\n",
    "- install Django in a new virtual environment called . venv\n",
    "- create a new Django project called django_project\n",
    "- createanew appblog\n",
    "- perform a migration to set up the database\n",
    "- updatedjango_project/settings.py\n",
    "\n",
    "Let’s implement them now in a new command line terminal. Start with the new directory, a new virtual environment, and activate it."
   ]
  },
  {
   "cell_type": "markdown",
   "metadata": {},
   "source": [
    "```bash\n",
    "$ mkdir blog\n",
    "\n",
    "$ cd blog\n",
    "\n",
    "$ python3 -m venv .venv\n",
    "\n",
    "$ source .venv/bin/activate\n",
    "$ (.venv)\n",
    "\n",
    "(.venv) $ python -m pip install django\n",
    "\n",
    "(.venv) § django-admin startproject django_project .\n",
    "(.venv) $ python manage.py startapp blog\n",
    "(.venv) $ python manage.py migrate\n",
    "```\n",
    "\n",
    "Add the blog App to the project."
   ]
  },
  {
   "cell_type": "markdown",
   "metadata": {},
   "source": [
    "### Recap Databases\n",
    "\n",
    "A database is a place to store and access different types of data, and there are two main types of databases: relational and non-relational.\n",
    "\n",
    "*A relational database* stores information in tables containing columns and rows, roughly analogous to an Excel spreadsheet. \n",
    "The columns define what information can be stored; the rows contain the actual data. Frequently, data in separate tables have some relation to each other, hence the term “relational\n",
    "database” to describe databases with this structure of tables, columns, and rows.\n",
    "\n",
    "*A non-relational database* is any database that doesn’t use the tables, fields, rows, and columns inherent in relational databases to structure its data:\n",
    "examples include document-oriented, key-value, graph, and wide-column.\n",
    "\n",
    "Relational databases are best when data is consistent, structured, and relationships between entities are essential. \n",
    "\n",
    "Non-relational databases have advantages when data is not structured, needs to be flexible in size or shape, and must be open to change in the future. \n",
    "\n"
   ]
  },
  {
   "cell_type": "markdown",
   "metadata": {},
   "source": [
    "\n",
    "### Django’s ORM\n",
    "\n",
    "An ORM (Object-Relational Mapper) is a powerful programming technique that makes working with data and relational databases much easier. \n",
    "\n",
    "In the case of Django, its ORM means we can write Python code to define database models; we don’t have to write raw SQL ourselves. \n",
    "And we don't have to worry about subtle differences in how each database interprets SQL. \n",
    "Instead, the Django ORM supports five relational databases: \n",
    "SQLite, PostgreSQL, MySQL, MariaDB, and Oracle. \n",
    "\n",
    "It also comes with support for migrations which provides a way to track and sync database changes over time. \n",
    "\n",
    "In sum, the Django ORM saves developers a tremendous amount of time and is one of the major reasons why Django is so efficient.\n",
    "\n",
    "While the ORM abstracts much of the work, we still need a basic understanding of relational databases if we want to implement them correctly. \n",
    "\n",
    "For example, before writing any actual code, let’s look at structuring the data in our Blog database.\n",
    "\n",
    "Recall that we create a table by adding a column to define a “field” of data. \n",
    "\n",
    "So, for example, we could start with a table called “Post” with columns for the title, author, and body text. \n",
    "\n",
    "If we drew this out as a simple schema, it would look something like this:\n",
    "\n",
    "```shell\n",
    "Post Schema\n",
    "Post\n",
    "TITLE AUTHOR BODY\n",
    "```\n",
    "\n",
    "And the actual database table with columns and rows would look like this:\n",
    "\n"
   ]
  },
  {
   "cell_type": "markdown",
   "metadata": {},
   "source": [
    "#### Post Database Table\n",
    "\n",
    "```shell\n",
    "TITLE           AUTHOR  BODY\n",
    "Hello, World!   WSV     My first blog post. Woohoo!\n",
    "Goals Today     WSV     Learn Django and build a blog application.\n",
    "3rd Post        WSV     This is my 3rd entry.\n",
    "```"
   ]
  },
  {
   "cell_type": "markdown",
   "metadata": {},
   "source": [
    "### Post Database Table\n",
    "At the beginning, we used the command python manage.py startapp blog to createanew blog app within our project, resulting in a blog directory containing several additional files, including **blog/models.py**. \n",
    "In Django, a models.py file is the single, definitive source of\n",
    "information about your data, and it contains the necessary fields and behaviors of the data being stored. \n",
    "\n",
    "We can write Python in a models. py file, and the Django ORM will translate it into SQL for us.\n",
    "\n",
    "To mimic the previous Post table using the Django ORM, add the following code to the blog/models.py file.\n",
    "\n",
    "\n",
    "```python\n",
    "# blog/models.py\n",
    "from django.db import models\n",
    "class Post(models.Model):\n",
    "\n",
    "    title = models.CharField(max_length=200)\n",
    "    author = models.CharField(max_length=200)\n",
    "    body = models.TextField()\n",
    "\n",
    "    def _ str_ (self):\n",
    "        return self.title\n",
    "```"
   ]
  },
  {
   "cell_type": "markdown",
   "metadata": {},
   "source": [
    "At the top of the file, we import models. \n",
    "In Django, a model is the definitive source of information about your data. \n",
    "\n",
    "Next, we create a subclass of models.Model called Post, which provides access to everything within django.db.models.Model. \n",
    "And from there, we have added three additional fields (think of them as columns) for title, author, and body. Each field must have an appropriate field type. \n",
    "\n",
    "The first two use CharField with a maximum character length of 200, while the third uses TextField, which is intended for a large amount of text.\n",
    "\n",
    "Adding the __str__method is technically optional, but as we saw in the last chapter, it is a best practice to ensure a human-readable version of our model object in the Django admin. \n",
    "\n",
    "In this case, it will display the title field of any blog post.\n",
    "Now that our new database model exists, we need to create a new migration record for it and migrate the change so it is applied to our database. \n",
    "\n",
    "Stop the server with Control+c. You can complete this two-step process with the commands below:\n",
    "\n",
    "```shell\n",
    "(.venv) $ python manage.py makemigrations blog\n",
    "(.venv) $ python manage.py migrate\n",
    "```\n",
    "\n",
    "The database is now configured, and there is a new migrations directory within the blog app directory containing our changes."
   ]
  }
 ],
 "metadata": {
  "language_info": {
   "name": "python"
  }
 },
 "nbformat": 4,
 "nbformat_minor": 2
}
