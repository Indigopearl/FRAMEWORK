{
 "cells": [
  {
   "cell_type": "markdown",
   "metadata": {},
   "source": [
    "## How Websites Work\n",
    "\n",
    "fundamentals behind the Internet and the World Wide Web:\n",
    "- The Internet is a broad global system of interconnected computers; \n",
    "the World Wide Web is a subset of the Internet that refers to hypertext documents\n",
    "linked together via hyperlinks (in other words, webpages)\n",
    "\n",
    "- The internet relies on various “communication protocols” \n",
    "- they are are like human languages in that they allow computers all over the world to\n",
    "communicate with one another via agreed-upon conventions. \n",
    "For example,\n",
    "1. file sharing uses the File Transfer Protocol (FTP), \n",
    "2. sending email uses the Simple Mail Transfer Protocol (SMTP), \n",
    "3. communicating through voice uses the Voice over Internet Protocol (VoIP)\n",
    "4. viewing webpages uses the Hypertext Transfer Protocol (HTTP). (We are interested in HTTP)"
   ]
  },
  {
   "cell_type": "markdown",
   "metadata": {},
   "source": [
    "#### “Internet” vs. “World Wide Web”\n",
    "\n",
    "- Underpinning the world wide web is the **client-server model**. \n",
    "-A “client” refers to any internet-connected device making service requests, such as a\n",
    "computer, a phone, a dishwasher, etc.; \n",
    "- the “server” is computer hardware or software that responds to service requests. \n",
    "the client makes a *request* and the server returns a *response*.\n",
    "\n",
    "- The computers powering the internet are often referred to as servers\n",
    "- but they’re just computers connected to the internet all the time running\n",
    "special software that lets them “serve” information to other computers. \n",
    "- Your own computer can be a server, but in practice most servers exist in large data\n",
    "centers (aka “the cloud”).\n",
    "\n",
    "Since we are using the HTTP protocol for all of this, we can be more specific\n",
    "and say that a client makes an HTTP request and a server responds with an\n",
    "HTTP response."
   ]
  },
  {
   "cell_type": "markdown",
   "metadata": {},
   "source": [
    "---Draw picture from chapter2 How websites works: HTTP cycle\n",
    "\n",
    "- The full domain name for a website like LearnDjango.com is actually\n",
    "https://learndjango.com. \n",
    "- The https:// at the beginning specifies that we are using HTTP as our protocol: \n",
    "HTTPS is the encrypted version of HTTP and now accounts for the majority of web traffic. \n",
    "- Modern web browsers will automatically add this on for you  \n",
    "- most regular users simply type the domain name and are unaware of the HTTP underpinnings.\n",
    "- Each time you type a URL address into your web browser an HTTP request is sent to the appropriate server which then returns an HTTP response. \n",
    "- Your web browser then renders the data from the HTTP response to create a webpage. \n",
    "- Every time you click on a link or request a new URL this HTTP request/response cycle begins again. \n",
    "- Back and forth the communication goes.\n",
    "- In production, a Django website like LearnDjango.com is hosted on a physical\n",
    "server and automatically processes HTTP requests and responses. \n",
    "- It relies on additional machinery that we will build out during later projects "
   ]
  },
  {
   "cell_type": "markdown",
   "metadata": {},
   "source": [
    "In local development, things are much simpler. \n",
    "- Django comes with a lightweight development server (runserver) that manages HTTP requests and\n",
    "responses, \n",
    "- Django generates dynamic content from the database and serves static files (more on these later). \n",
    "\n",
    "We can therefore update our first image with a new one featuring runserver wrapped\n",
    "around Django.\n",
    "----- draw image\n",
    "\n"
   ]
  },
  {
   "cell_type": "markdown",
   "metadata": {},
   "source": [
    "### How Web Frameworks Work\n",
    "\n",
    "- There are two broad categories of websites: static and dynamic. \n",
    "- A static website consists of individual HTML documents that are sent over\n",
    "HTTP to your web browser. \n",
    "- If your website has ten pages then there must be ten corresponding HTML files. \n",
    "This approach can work for very small websites but quickly falls apart when a website needs hundreds or thousands of pages. \n",
    "- A dynamic website consists of a database, HTML templates, and\n",
    "an application server that can update the files before sending them to your\n",
    "browser via HTTP. \n",
    "- Most large websites adopt this approach since it means millions of webpages can be composed of only a few HTML templates, a small amount of logic, and a big database.\n",
    "- Django is designed for dynamic websites and abstracts away much of the\n",
    "difficulty inherent in creating a website from scratch. \n",
    "If you think about it, most websites require the same fundamental tools:\n",
    "\n",
    "- a way to process URL requests\n",
    "- a way to connect to a database\n",
    "- a way to generate dynamic content by filtering data from the database\n",
    "- a way to create templates for styling HTML and adding CSS, images, etc \n",
    "\n"
   ]
  },
  {
   "cell_type": "markdown",
   "metadata": {},
   "source": [
    "### Model-View-Controller vs Model-View-Template\n",
    "\n",
    "- If you have built websites before you might be familiar with the Model-View-\n",
    "Controller (MVC) pattern. \n",
    "- It is used by web frameworks including Ruby on Rails, Spring (Java), Laravel (PHP), and ASP.NET (C#)\n",
    "- This is a popular way to internally separate the data, logic, and display of an application into separate components that are easier for a developer to reason about\n",
    "\n",
    "In the traditional MVC pattern there are three major components:\n",
    "\n",
    "- Model: Manages data and core business logic\n",
    "\n",
    "- View: Renders data from the model in a particular format\n",
    "\n",
    "- Controller: Accepts user input and performs application-specific logic\n",
    "\n",
    "\n",
    "Django’s approach is sometimes called Model-View-Template (MVT) but it is\n",
    "really a 4-part pattern that also incorporates URL configuration. \n",
    "Something like Model-View-Template-URL (MVTU) would be a more accurate\n",
    "description:\n",
    "\n",
    "- Model: Manages data and core business logic\n",
    "- View: Describes which data is sent to the user but not its presentation\n",
    "- Template: Presents the data as HTML with optional CSS, JavaScript, and static assets\n",
    "- URL Configuration: Regular expression components configured to a View"
   ]
  },
  {
   "cell_type": "markdown",
   "metadata": {},
   "source": [
    "- The “View” in MVC is analogous to a “Template” in Django\n",
    "- the “Controller” in MVC is divided into a Django “View” and “URL config.” \n",
    "- let's map out the order of a given HTTP request/response cycle for Django:\n",
    "\n",
    "- When you type in a URL, such as https://djangoproject.com, \n",
    "1. the first thing that happens within our Django project is that runserver kicks\n",
    "into gear and helps Django look for a matching URL pattern (contained\n",
    "in urls.py)\n",
    "2.  The URL pattern is linked to a single view (contained in\n",
    "views.py) \n",
    "3. which combines the data from the model (stored in models. py)\n",
    "and the styling from a template (any file ending in .htm1). \n",
    "4. The view then returns a HTTP response to the user.\n",
    "\n",
    "A simplified version of this complete Django flow looks like this:\n",
    "\n",
    "\n",
    "--- draw picture MVC versus MVT"
   ]
  },
  {
   "cell_type": "markdown",
   "metadata": {},
   "source": [
    "- If you are new to web development the distinction between MVC and MVT\n",
    "will not matter much. \n",
    "- the “Django way” of doing things is more loosely coupled and allows\n",
    "for easier modifications than the MVC approach."
   ]
  }
 ],
 "metadata": {
  "language_info": {
   "name": "python"
  }
 },
 "nbformat": 4,
 "nbformat_minor": 2
}
