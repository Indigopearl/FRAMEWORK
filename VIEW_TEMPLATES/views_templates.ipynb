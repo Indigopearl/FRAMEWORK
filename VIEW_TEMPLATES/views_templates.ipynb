{
 "cells": [
  {
   "cell_type": "markdown",
   "metadata": {},
   "source": [
    "# Pages App\n",
    "\n",
    "- class-bassed views\n",
    "- templates\n",
    "- test templates"
   ]
  },
  {
   "cell_type": "markdown",
   "metadata": {},
   "source": [
    "## Initial Set up\n",
    "\n",
    "- make a new directory for our code called pages and navigate into it\n",
    "- create a new virtual environment called . venv and activate it\n",
    "- install Django \n",
    "\n",
    "- create a new Django project called django_project2\n",
    "\n",
    "- create anew app called pages"
   ]
  },
  {
   "cell_type": "markdown",
   "metadata": {},
   "source": [
    "```bash\n",
    "mkdir django_project2\n",
    "\n",
    "cd django_project2\n",
    "\n",
    "python3.8 -m venv .venv\n",
    "\n",
    "source .venv/bin/activate\n",
    "\n",
    "pip install django\n",
    "\n",
    "django-admin startproject django_project2 .\n",
    "\n",
    "python manage.py migrate\n",
    "\n",
    "python manage.py runserver\n",
    "```"
   ]
  },
  {
   "cell_type": "markdown",
   "metadata": {},
   "source": [
    "- add APP to project:\n",
    "\n",
    "```python\n",
    "# django_project2/settings.py \n",
    "INSTALLED_APPS = [\n",
    "\"django.contrib.admin\", \n",
    "\"django.contrib.auth\", \n",
    "\"django.contrib.contenttypes\", \n",
    "\"django.contrib.sessions\", \n",
    "\"django.contrib.messages\", \n",
    "\"django.contrib.staticfiles\", \n",
    "\"pages\", # new \n",
    "] |\n",
    "```"
   ]
  },
  {
   "cell_type": "markdown",
   "metadata": {},
   "source": [
    "## Templates\n",
    "\n",
    "Every web framework needs a convenient way to generate HTML files, and\n",
    "in Django, the approach is to use templates: individual HTML files that can\n",
    "be linked together and include basic logic.\n",
    "\n",
    "Recall that our “Hello, World” site had the phrase hardcoded into a\n",
    "views.py file in the previous chapter. \n",
    "That technically works but does not scale well. \n",
    "A better approach is to link a view to a template, thereby separating the information contained in each. \n"
   ]
  },
  {
   "cell_type": "markdown",
   "metadata": {},
   "source": [
    "- create a single project-level templates directory and place all templates within it - By tweaking our django_project/settings.py ﬁle, we can tell Django to look in\n",
    "this directory for templates. \n",
    "\n",
    "create a directory called templates:"
   ]
  },
  {
   "cell_type": "markdown",
   "metadata": {},
   "source": [
    "```bash\n",
    "mkdir templates\n",
    "```\n",
    "\n",
    "file structure (`tree -I '__pycache__'`):\n",
    "\n",
    "```\n",
    "├── db.sqlite3\n",
    "├── django_project2\n",
    "│   ├── asgi.py\n",
    "│   ├── __init__.py\n",
    "│   ├── settings.py\n",
    "│   ├── urls.py\n",
    "│   └── wsgi.py\n",
    "├── manage.py\n",
    "├── pages\n",
    "│   ├── admin.py\n",
    "│   ├── apps.py\n",
    "│   ├── __init__.py\n",
    "│   ├── migrations\n",
    "│   │   └── __init__.py\n",
    "│   ├── models.py\n",
    "│   ├── tests.py\n",
    "│   ├── urls.py\n",
    "│   └── views.py\n",
    "└── templates\n",
    "    └── home.html\n",
    "```"
   ]
  },
  {
   "cell_type": "markdown",
   "metadata": {},
   "source": [
    "## Class-Based Views \n",
    "Early versions of Django only shipped with function-based views, but\n",
    "developers soon found themselves repeating the same patterns over and over.\n",
    "\n",
    "1. Write a view that lists all objects in a model. \n",
    "2. Write a view that displays only one detailed item from a model. \n",
    "And so on. \n",
    "\n",
    "Generic function-based views were introduced to abstract these patterns and streamline the development of common patterns. \n",
    "\n",
    "To help with code reusability, Django added class-based views and generic\n",
    "class-based views while still retaining function-based views. \n"
   ]
  },
  {
   "cell_type": "markdown",
   "metadata": {},
   "source": [
    "There are three different ways to write a view in Django:\n",
    "\n",
    "1. function-based\n",
    "2. class-based\n",
    "3. generic class-based\n",
    "\n",
    "- Function-based views are simpler to understand because they 3\n",
    "mimic the HTTP request/response cycle \n",
    "- Class-based views are a little harder to understand because their inheritance structure means you have to dive into the code to see everything happening; \n",
    "- And generic class-based views are the hardest yet to understand. \n",
    "\n",
    "An entire website, Classy Class-Based Views, is dedicated to helping developers\n",
    "decipher them.\n",
    "So why bother with generic class-based views? Once you have used them for\n",
    "a while, they become elegant and efficient ways to write code. You can often\n",
    "modify a single method on one to do custom behavior rather than rewriting\n",
    "everything from scratch, which makes it easier to understand someone else’s\n",
    "code. This does, however, come at the cost of complexity \n",
    "\n",
    "When a generic class-based view is not enough, modify it to suit your needs. \n",
    "And if that still isn’t enough, revert to a function-based or class-based view. "
   ]
  },
  {
   "cell_type": "markdown",
   "metadata": {},
   "source": [
    "In our specific use case, we will use TemplateView (one of the generic views) to display our template.\n",
    "Replace the default text in the pages/views.py file with the following:\n",
    "Code\n",
    "\n",
    "```python\n",
    "# pages/views.py\n",
    "from django.views.generic import TemplateView\n",
    "\n",
    "class HomePageView(TemplateView):\n",
    "template_name = \"home.html\" \n",
    "```\n"
   ]
  },
  {
   "cell_type": "markdown",
   "metadata": {},
   "source": [
    "### About Page\n",
    "\n",
    "1. add about.html\n",
    "\n",
    "```\n",
    "├── django_project2\n",
    "├── manage.py\n",
    "├── pages\n",
    "└── templates\n",
    "    ├── about.html\n",
    "    └── home.html\n",
    "```\n",
    "\n",
    "2. create About view\n",
    "3. add view to pages/urls"
   ]
  },
  {
   "cell_type": "markdown",
   "metadata": {},
   "source": [
    "## Extending Templates\n",
    "\n",
    "The real power of templates is that they can be extended. \n",
    "If you think about most websites, the same content appears on every page:\n",
    "- header, \n",
    "- footer, \n",
    "- etc.\n",
    "\n",
    "- Let’s create a base.html file containing a header with links\n",
    "to our two pages. \n",
    "- We could name this file anything, but using base.html"
   ]
  },
  {
   "cell_type": "markdown",
   "metadata": {},
   "source": [
    "```\n",
    "|── templates\n",
    "    ├── about.html\n",
    "    ├── base.html\n",
    "    └── home.html\n",
    "```"
   ]
  },
  {
   "cell_type": "markdown",
   "metadata": {},
   "source": [
    "Django has a minimal templating language for adding links and basic logic\n",
    "in our templates. \n",
    "You can see the complete list of built-in template tags\n",
    "in the official docs. \n",
    "\n",
    "Template tags take the form of {% something %} where the “something” is the template tag itself. \n",
    "You can even create custom\n",
    "template tags (out of scope)\n",
    "\n",
    "To add URL links in our project, we can use the built-in URL template tag\n",
    "‘which takes the URL pattern name as an argument. \n",
    "Remember how we added optional URL names to our two routes in pages/urls.py? \n",
    "The url tag uses these names to create links for us automatically.\n",
    "\n",
    "The URL route for our homepage is called home. To configure a link to it, we\n",
    "use the following syntax: {% url 'home' %}."
   ]
  },
  {
   "cell_type": "markdown",
   "metadata": {},
   "source": [
    "```html\n",
    "#base.html\n",
    "<header>\n",
    "  <a href=\"{% url 'home' %}\">Home</a>\n",
    "  <a href=\"{% url 'about' %}\">About</a>\n",
    "</header>\n",
    "\n",
    "{% block content %} {% endblock content %}\n",
    "```\n",
    "\n",
    "At the bottom, we've added a block tag called content. \n",
    "\n",
    "- Let’s update our home.html and about.html files to extend the base.html template. \n",
    "- That means we can reuse the same code from one template in another. \n",
    "- The Django templating language comes with an extends method that we can use for this.\n",
    "\n",
    "```html\n",
    "#Home\n",
    "{% extends \"base.html\" %}\n",
    "\n",
    "\n",
    "{% block content %}\n",
    "<h1>Home</h1>\n",
    "{% endblock content %}\n",
    "```\n",
    "\n",
    "\n",
    "```html\n",
    "{% extends \"base.html\" %}\n",
    "\n",
    "{% block content %}\n",
    "<h1>About</h1>\n",
    "{% endblock content %}\n",
    "\n",
    "```\n"
   ]
  },
  {
   "cell_type": "markdown",
   "metadata": {},
   "source": [
    "## Test\n",
    "\n",
    "- It’s important to add automated tests and run them whenever a codebase\n",
    "changes. \n",
    "- Tests require a small amount of upfront time to write but more than\n",
    "pay off later on. \n",
    "- In the words of Django co-creator Jacob Kaplan-Moss, “Code\n",
    "without tests is broken as designed.”"
   ]
  },
  {
   "cell_type": "markdown",
   "metadata": {},
   "source": [
    "The Python standard library contains a built-in testing framework called\n",
    "unittest that uses TestCase instances and a long list of assert methods\n",
    "to check for and report failures. \n",
    "\n",
    "Django’s testing framework provides several extensions on top of Python’s \n",
    "unittest.TestCase base class.\n",
    "\n",
    "These include a test client for making dummy Web browser requests,\n",
    "several Django-specific additional assertions, some test case classes:\n",
    "\n",
    "1. SimpleTestCase, \n",
    "2. TestCase, \n",
    "3. TransactionTestCase\n",
    "\n",
    "Generally speaking, SimpleTestCase is used when a database is\n",
    "unnecessary while TestCase is used when you want to test the database.\n",
    "TransactionTestCase is helpful to directly test database transactions\n",
    "\n",
    "\n"
   ]
  },
  {
   "cell_type": "markdown",
   "metadata": {},
   "source": [
    "\n",
    "If you look within our pages app, Django already provided a tests.py\n",
    "file we can use. \n",
    "Since no database is involved in our project, we will import\n",
    "SimpleTestCase at the top of the file. \n",
    "\n",
    "For our first tests, we’ll check that the two URLs for our website, the homepage and about page, both return HTTP status codes of 200, the standard response for a successful HTTP request."
   ]
  },
  {
   "cell_type": "markdown",
   "metadata": {},
   "source": [
    "```python\n",
    "# pages/tests.py\n",
    "from django.test import SimpleTestCase\n",
    "\n",
    "# Create your tests here.\n",
    "class HomePageTests(SimpleTestCase):\n",
    "    def test_url_exists(self):\n",
    "        response = self.client.get('/')\n",
    "        self.assertEqual(response.status_code, 200)\n",
    "\n",
    "class AboutPageTest(SimpleTestCase):\n",
    "    def test_url_exists(self):\n",
    "        response = self.client.get('/about/')\n",
    "        self.assertEqual(response.status_code, 200)\n",
    "```"
   ]
  },
  {
   "cell_type": "markdown",
   "metadata": {},
   "source": [
    "What else can we test? \n",
    "At the moment we are testing the actual URL route for\n",
    "each page: / for the homepage and /about for the about page. \n",
    "But remember that we also added a URL name for each in the pages/urls.py file. \n",
    "We should check that the URL name works as well."
   ]
  },
  {
   "cell_type": "markdown",
   "metadata": {},
   "source": [
    "To do that we can use the very handy Django utility function **reverse**. \n",
    "Instead of going to a URL path first, it looks for the URL name. \n",
    "In general, it is a bad idea to hardcode URLs, especially in templates. \n",
    "By using reverse we can avoid this. \n",
    "\n",
    "For now, we want to test the URL names for our two  pages. \n",
    "Import reverse at the top of the file add then add a new unit test for each below."
   ]
  },
  {
   "cell_type": "markdown",
   "metadata": {},
   "source": [
    "```python\n",
    "from django.test import SimpleTestCase\n",
    "from django.urls import reverse\n",
    "\n",
    "# Create your tests here.\n",
    "class HomePageTests(SimpleTestCase):\n",
    "    def test_url_exists(self):\n",
    "        response = self.client.get('/')\n",
    "        self.assertEqual(response.status_code, 200)\n",
    "\n",
    "    def test_url_available_by_name(self):\n",
    "        response = self.client.get(reverse('home'))\n",
    "        self.assertEqual(response.status_code, 200)\n",
    "\n",
    "class AboutPageTest(SimpleTestCase):\n",
    "    def test_url_exists(self):\n",
    "        response = self.client.get('/about/')\n",
    "        self.assertEqual(response.status_code, 200)\n",
    "\n",
    "    def test_url_available_by_name(self):\n",
    "        response = self.client.get(reverse('about'))\n",
    "        self.assertEqual(response.status_code, 200)\n",
    "```"
   ]
  },
  {
   "cell_type": "markdown",
   "metadata": {},
   "source": [
    "Let’s make sure that the correct templates \n",
    "-home.html and about.html-\n",
    "are used on each page and that they display the expected content of\n",
    "\n",
    "\"<hl1>Homepage</h1>\" and \"<h1>About page</h1>\" \n",
    "\n",
    "respectively.\n",
    "We can use *assertTemplateUsed* and *assertContains* to achieve this."
   ]
  },
  {
   "cell_type": "markdown",
   "metadata": {},
   "source": [
    "### Request and Response object\n",
    "\n",
    "- All views always receive a first argument that contains a request object.\n",
    "- it has attributes like:\n",
    "1. request.method\n",
    "2. request.GET\n",
    "3. request.POST\n",
    "4. request.COOKIES\n",
    "etc.\n",
    "\n",
    "- The response object is a file-like object (a I/O stream) and has the usual methods.\n",
    "- response = HttpResponse() # returns response\n",
    "- render also returns response object\n",
    "- All views must always return \n",
    "a response object.\n",
    "\n",
    "\n"
   ]
  },
  {
   "cell_type": "markdown",
   "metadata": {},
   "source": [
    "There are a variety of subclasses and higher-level functions that return a response object.\n",
    "\n",
    "\n",
    "```python\n",
    "from django.http import HttpResponse, HttpResponseRedirect\n",
    "\n",
    "\n",
    "\n",
    "def browse(request):\n",
    "\n",
    "    \"\"\"Browse the shop.\"\"\"\n",
    "    text = \"Hello World!\"\n",
    "    if some condition:\n",
    "        return HttpResponseRedirect(\"/\")\n",
    "\n",
    "    return HttpResponse(text)\n",
    "```"
   ]
  },
  {
   "cell_type": "markdown",
   "metadata": {},
   "source": [
    "```python\n",
    "from django.http import HttpResponse, HttpResponseNotFound\n",
    "\n",
    "\n",
    "\n",
    "def browse(request):\n",
    "\n",
    "    \"\"\"Browse the shop.\"\"\"\n",
    "    text = \"Hello World!\"\n",
    "    if some condition:\n",
    "        return HttpResponseNotFound(\"<html>Not found.</html>\")\n",
    "\n",
    "    return HttpResponse(text)\n",
    "```\n",
    "\n",
    "The HttpResponseNotFound returns a 404 error, but also requires us to define the complete HTML."
   ]
  }
 ],
 "metadata": {
  "language_info": {
   "name": "python"
  },
  "orig_nbformat": 4
 },
 "nbformat": 4,
 "nbformat_minor": 2
}
